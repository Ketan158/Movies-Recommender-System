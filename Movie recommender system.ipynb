{
 "cells": [
  {
   "cell_type": "code",
   "execution_count": 1,
   "id": "33e71bbe",
   "metadata": {
    "lines_to_next_cell": 2
   },
   "outputs": [],
   "source": [
    "################     Importing the Libraries     ###############\n",
    "\n",
    "import numpy as np\n",
    "import pandas as pd\n",
    "import difflib\n",
    "from sklearn.metrics.pairwise import cosine_similarity\n",
    "from sklearn.feature_extraction.text import TfidfVectorizer"
   ]
  },
  {
   "cell_type": "code",
   "execution_count": 3,
   "id": "b00393db",
   "metadata": {
    "lines_to_next_cell": 2
   },
   "outputs": [],
   "source": [
    "###############    Data collection & Pre-Processing    ############\n",
    "\n",
    "movies_data = pd.read_csv(r\"C:\\Users\\Ketan Vardhan\\Documents\\Movie Recommender System\\Movies_dataset.csv\")"
   ]
  },
  {
   "cell_type": "code",
   "execution_count": 3,
   "id": "c39e0556",
   "metadata": {
    "lines_to_next_cell": 2
   },
   "outputs": [
    {
     "data": {
      "text/html": [
       "<div>\n",
       "<style scoped>\n",
       "    .dataframe tbody tr th:only-of-type {\n",
       "        vertical-align: middle;\n",
       "    }\n",
       "\n",
       "    .dataframe tbody tr th {\n",
       "        vertical-align: top;\n",
       "    }\n",
       "\n",
       "    .dataframe thead th {\n",
       "        text-align: right;\n",
       "    }\n",
       "</style>\n",
       "<table border=\"1\" class=\"dataframe\">\n",
       "  <thead>\n",
       "    <tr style=\"text-align: right;\">\n",
       "      <th></th>\n",
       "      <th>index</th>\n",
       "      <th>title</th>\n",
       "      <th>original_language</th>\n",
       "      <th>release_date</th>\n",
       "      <th>popularity</th>\n",
       "      <th>vote_average</th>\n",
       "      <th>vote_count</th>\n",
       "      <th>overview</th>\n",
       "    </tr>\n",
       "  </thead>\n",
       "  <tbody>\n",
       "    <tr>\n",
       "      <th>0</th>\n",
       "      <td>0</td>\n",
       "      <td>Spider-Man: Across the Spider-Verse</td>\n",
       "      <td>en</td>\n",
       "      <td>31-05-2023</td>\n",
       "      <td>3368.627</td>\n",
       "      <td>8.5</td>\n",
       "      <td>3386</td>\n",
       "      <td>After reuniting with Gwen Stacy, Brooklyn’s fu...</td>\n",
       "    </tr>\n",
       "    <tr>\n",
       "      <th>1</th>\n",
       "      <td>1</td>\n",
       "      <td>Transformers: Rise of the Beasts</td>\n",
       "      <td>en</td>\n",
       "      <td>06-06-2023</td>\n",
       "      <td>2160.316</td>\n",
       "      <td>7.5</td>\n",
       "      <td>2747</td>\n",
       "      <td>When a new threat capable of destroying the en...</td>\n",
       "    </tr>\n",
       "    <tr>\n",
       "      <th>2</th>\n",
       "      <td>2</td>\n",
       "      <td>The Flash</td>\n",
       "      <td>en</td>\n",
       "      <td>13-06-2023</td>\n",
       "      <td>2108.713</td>\n",
       "      <td>7.0</td>\n",
       "      <td>2305</td>\n",
       "      <td>When his attempt to save his family inadverten...</td>\n",
       "    </tr>\n",
       "    <tr>\n",
       "      <th>3</th>\n",
       "      <td>3</td>\n",
       "      <td>No Hard Feelings</td>\n",
       "      <td>en</td>\n",
       "      <td>15-06-2023</td>\n",
       "      <td>1978.358</td>\n",
       "      <td>7.1</td>\n",
       "      <td>562</td>\n",
       "      <td>On the brink of losing her childhood home, Mad...</td>\n",
       "    </tr>\n",
       "    <tr>\n",
       "      <th>4</th>\n",
       "      <td>4</td>\n",
       "      <td>Barbie</td>\n",
       "      <td>en</td>\n",
       "      <td>19-07-2023</td>\n",
       "      <td>1976.513</td>\n",
       "      <td>7.5</td>\n",
       "      <td>3013</td>\n",
       "      <td>Barbie and Ken are having the time of their li...</td>\n",
       "    </tr>\n",
       "  </tbody>\n",
       "</table>\n",
       "</div>"
      ],
      "text/plain": [
       "   index                                title original_language release_date  \\\n",
       "0      0  Spider-Man: Across the Spider-Verse                en   31-05-2023   \n",
       "1      1     Transformers: Rise of the Beasts                en   06-06-2023   \n",
       "2      2                            The Flash                en   13-06-2023   \n",
       "3      3                     No Hard Feelings                en   15-06-2023   \n",
       "4      4                               Barbie                en   19-07-2023   \n",
       "\n",
       "   popularity  vote_average  vote_count  \\\n",
       "0    3368.627           8.5        3386   \n",
       "1    2160.316           7.5        2747   \n",
       "2    2108.713           7.0        2305   \n",
       "3    1978.358           7.1         562   \n",
       "4    1976.513           7.5        3013   \n",
       "\n",
       "                                            overview  \n",
       "0  After reuniting with Gwen Stacy, Brooklyn’s fu...  \n",
       "1  When a new threat capable of destroying the en...  \n",
       "2  When his attempt to save his family inadverten...  \n",
       "3  On the brink of losing her childhood home, Mad...  \n",
       "4  Barbie and Ken are having the time of their li...  "
      ]
     },
     "execution_count": 3,
     "metadata": {},
     "output_type": "execute_result"
    }
   ],
   "source": [
    "movies_data.head()"
   ]
  },
  {
   "cell_type": "code",
   "execution_count": 4,
   "id": "0637e0a4",
   "metadata": {
    "lines_to_next_cell": 2
   },
   "outputs": [
    {
     "data": {
      "text/plain": [
       "(10000, 8)"
      ]
     },
     "execution_count": 4,
     "metadata": {},
     "output_type": "execute_result"
    }
   ],
   "source": [
    "movies_data.shape"
   ]
  },
  {
   "cell_type": "code",
   "execution_count": 5,
   "id": "34f9eee5",
   "metadata": {
    "lines_to_next_cell": 2
   },
   "outputs": [],
   "source": [
    "# To remove the repeated rows\n",
    "\n",
    "movies_data = movies_data.drop_duplicates()"
   ]
  },
  {
   "cell_type": "code",
   "execution_count": 6,
   "id": "b0f83555-a453-42fc-83fb-f1207d434463",
   "metadata": {},
   "outputs": [
    {
     "data": {
      "text/plain": [
       "(10000, 8)"
      ]
     },
     "execution_count": 6,
     "metadata": {},
     "output_type": "execute_result"
    }
   ],
   "source": [
    "movies_data.shape"
   ]
  },
  {
   "cell_type": "code",
   "execution_count": 7,
   "id": "a3516463",
   "metadata": {
    "lines_to_next_cell": 2
   },
   "outputs": [
    {
     "name": "stdout",
     "output_type": "stream",
     "text": [
      "['index', 'title', 'overview', 'vote_average', 'vote_count', 'popularity']\n"
     ]
    }
   ],
   "source": [
    "\n",
    "selected_features = ['index','title','overview','vote_average','vote_count','popularity']\n",
    "print(selected_features)"
   ]
  },
  {
   "cell_type": "code",
   "execution_count": 8,
   "id": "03ecef69",
   "metadata": {
    "lines_to_next_cell": 2
   },
   "outputs": [],
   "source": [
    "\n",
    "for feature in selected_features:\n",
    "    movies_data[feature] = movies_data[feature].fillna('')"
   ]
  },
  {
   "cell_type": "code",
   "execution_count": 9,
   "id": "972fe792-fda8-4ed8-99c4-7f2303343d4d",
   "metadata": {},
   "outputs": [
    {
     "data": {
      "text/plain": [
       "(10000, 8)"
      ]
     },
     "execution_count": 9,
     "metadata": {},
     "output_type": "execute_result"
    }
   ],
   "source": [
    "movies_data.shape"
   ]
  },
  {
   "cell_type": "code",
   "execution_count": null,
   "id": "f0bf4224",
   "metadata": {
    "lines_to_next_cell": 2
   },
   "outputs": [],
   "source": [
    "\n",
    "# Convert numeric columns to strings\n",
    "\n",
    "movies_data['index'] = movies_data['index'].astype(str)\n",
    "movies_data['vote_average'] = movies_data['vote_average'].astype(str)\n",
    "movies_data['vote_count'] = movies_data['vote_count'].astype(str)\n",
    "movies_data['popularity'] = movies_data['popularity'].astype(str)\n",
    "\n",
    "# Combining all the selected features\n",
    "\n",
    "combined_features = (movies_data['index'] + ' ' +movies_data['title'] + ' ' +movies_data['overview'] + ' ' +movies_data['vote_average'] + ' ' +movies_data['vote_count'] + ' ' +movies_data['popularity']\n",
    ")"
   ]
  },
  {
   "cell_type": "code",
   "execution_count": null,
   "id": "b2956d21",
   "metadata": {
    "lines_to_next_cell": 2
   },
   "outputs": [],
   "source": [
    "\n",
    "print(combined_features)"
   ]
  },
  {
   "cell_type": "code",
   "execution_count": null,
   "id": "08327280",
   "metadata": {
    "lines_to_next_cell": 2
   },
   "outputs": [],
   "source": [
    "# Converting the textual data to feature vectors\n",
    "\n",
    "vectorizer = TfidfVectorizer()"
   ]
  },
  {
   "cell_type": "code",
   "execution_count": null,
   "id": "418a3513",
   "metadata": {
    "lines_to_next_cell": 2
   },
   "outputs": [],
   "source": [
    "\n",
    "feature_vectors = vectorizer.fit_transform(combined_features)\n",
    "print(feature_vectors)"
   ]
  },
  {
   "cell_type": "code",
   "execution_count": null,
   "id": "d89baba9",
   "metadata": {
    "lines_to_next_cell": 2
   },
   "outputs": [],
   "source": [
    "\n",
    "########   Cosine similarity    ###############\n",
    "\n",
    "# Getting the similarity confidence score using cosine similarity\n",
    "\n",
    "similarity = cosine_similarity(feature_vectors)"
   ]
  },
  {
   "cell_type": "code",
   "execution_count": null,
   "id": "f201de9c",
   "metadata": {
    "lines_to_next_cell": 2
   },
   "outputs": [],
   "source": [
    "\n",
    "print(similarity)"
   ]
  },
  {
   "cell_type": "code",
   "execution_count": null,
   "id": "4b6b8a8f",
   "metadata": {
    "lines_to_next_cell": 2
   },
   "outputs": [],
   "source": [
    "\n",
    "print(similarity.shape)"
   ]
  },
  {
   "cell_type": "code",
   "execution_count": null,
   "id": "0f47c334",
   "metadata": {
    "lines_to_next_cell": 2
   },
   "outputs": [],
   "source": [
    "# getting the movie name from the User\n",
    "\n",
    "movie_name = input('Enter your favourite movie name: ')"
   ]
  },
  {
   "cell_type": "code",
   "execution_count": null,
   "id": "4d8a9a35",
   "metadata": {
    "lines_to_next_cell": 2
   },
   "outputs": [],
   "source": [
    "# Creating a list with all the titles from the data frame\n",
    "\n",
    "list_of_all_titles = movies_data['title'].tolist()\n",
    "print(list_of_all_titles)"
   ]
  },
  {
   "cell_type": "code",
   "execution_count": null,
   "id": "1562ab59",
   "metadata": {
    "lines_to_next_cell": 2
   },
   "outputs": [],
   "source": [
    "# Finding the close match for movie given by the user\n",
    "\n",
    "finding_close_match = difflib.get_close_matches(movie_name, list_of_all_titles)\n",
    "print(finding_close_match)"
   ]
  },
  {
   "cell_type": "code",
   "execution_count": null,
   "id": "f5ff1d98",
   "metadata": {
    "lines_to_next_cell": 2
   },
   "outputs": [],
   "source": [
    "\n",
    "close_match = finding_close_match[0]\n",
    "print(close_match)"
   ]
  },
  {
   "cell_type": "code",
   "execution_count": null,
   "id": "830f7f36",
   "metadata": {
    "lines_to_next_cell": 2
   },
   "outputs": [],
   "source": [
    "# Finding the index of the movie with title\n",
    "\n",
    "index_of_the_movie = movies_data[movies_data.title == close_match]['index'].values[0]\n",
    "print(index_of_the_movie)"
   ]
  },
  {
   "cell_type": "code",
   "execution_count": null,
   "id": "c57420bc",
   "metadata": {
    "lines_to_next_cell": 2
   },
   "outputs": [],
   "source": [
    "# Replace 'movie_name' with the name of the movie you want to find similar movies for\n",
    "\n",
    "movie_name = 'The Flash'\n",
    "\n",
    "# Find the index of the movie in your dataset\n",
    "\n",
    "index_of_the_movie = movies_data.index[movies_data['title'] == movie_name].tolist()\n",
    "\n",
    "if len(index_of_the_movie) > 0:\n",
    "    index_of_the_movie = index_of_the_movie[0]  # Get the first index\n",
    "else:\n",
    "    print(f\"The movie '{movie_name}' was not found in the dataset.\")"
   ]
  },
  {
   "cell_type": "code",
   "execution_count": null,
   "id": "6147741d",
   "metadata": {
    "lines_to_next_cell": 2
   },
   "outputs": [],
   "source": [
    "# Getting a list of similar movies\n",
    "\n",
    "similarity_score = list(enumerate(similarity[index_of_the_movie]))\n",
    "print(similarity_score)"
   ]
  },
  {
   "cell_type": "code",
   "execution_count": null,
   "id": "de1d814f",
   "metadata": {
    "lines_to_next_cell": 2
   },
   "outputs": [],
   "source": [
    "\n",
    "len(similarity_score)"
   ]
  },
  {
   "cell_type": "code",
   "execution_count": null,
   "id": "ed90107b",
   "metadata": {
    "lines_to_next_cell": 2
   },
   "outputs": [],
   "source": [
    "# Sorting the movies based on their similarity confidence score\n",
    "\n",
    "sorted_similar_movies = sorted(similarity_score, key = lambda x:x[1], reverse = True)\n",
    "print(sorted_similar_movies)"
   ]
  },
  {
   "cell_type": "code",
   "execution_count": null,
   "id": "7671f4b9",
   "metadata": {
    "lines_to_next_cell": 2
   },
   "outputs": [],
   "source": [
    "# Print the name of similar movie based on the index\n",
    "\n",
    "print('Movies suggested for you: \\n')\n",
    "\n",
    "i = 1\n",
    "\n",
    "for movie in sorted_similar_movies:\n",
    "    index = movie[0]\n",
    "    title_from_index = movies_data[movies_data.index == index]['title'].values[0]\n",
    "    if (i < 10):\n",
    "        print(i,'.',title_from_index)\n",
    "        i += 1"
   ]
  }
 ],
 "metadata": {
  "jupytext": {
   "cell_metadata_filter": "-all",
   "encoding": "# coding: utf-8",
   "executable": "/usr/bin/env python",
   "main_language": "python",
   "notebook_metadata_filter": "-all"
  },
  "kernelspec": {
   "display_name": "Python 3 (ipykernel)",
   "language": "python",
   "name": "python3"
  },
  "language_info": {
   "codemirror_mode": {
    "name": "ipython",
    "version": 3
   },
   "file_extension": ".py",
   "mimetype": "text/x-python",
   "name": "python",
   "nbconvert_exporter": "python",
   "pygments_lexer": "ipython3",
   "version": "3.10.16"
  }
 },
 "nbformat": 4,
 "nbformat_minor": 5
}
